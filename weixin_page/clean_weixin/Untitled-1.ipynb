{
 "cells": [
  {
   "cell_type": "code",
   "execution_count": 7,
   "metadata": {},
   "outputs": [],
   "source": [
    "import re\n",
    "text = '这是测试文本的[CODE_START]这是一条测试文本[CODE_END]这是测试文本的外部this is not'\n",
    "SPECIAL_TAG_FORMAT = {\n",
    "        \"code_block\": r\"\\[CODE_START\\].*?\\[CODE_END\\]\",\n",
    "        \"code_inline\": r\"\\[CODE_IN_START\\](.*?)\\[CODE_IN_END\\]\",\n",
    "        \"formula_block\": r\"\\[EQ_START\\](.*?)\\[EQ_END\\]\",\n",
    "        \"formula_inline\": r\"\\[EQ_IN_START\\](.*?)\\[EQ_IN_END\\]\",\n",
    "        \"img\": r\"\\[IMG_START\\](.*?)\\[IMG_END\\]\",\n",
    "        \"table\": r\"\\[TAB_START\\](.*?)\\[TAB_END\\]\",\n",
    "        \"emoji\": r\"\\[EMJ_START\\](.*?)\\[EMJ_END\\]\",\n",
    "    }\n",
    "patterns = [v for k, v in SPECIAL_TAG_FORMAT.items()]\n",
    "pattern = \"|\".join(patterns)\n",
    "\n",
    "remaining_text = re.sub(pattern, \"\", text.replace(\"\\n\", \"<n>\"))\n",
    "remaining_text = re.sub(r\"(<n>)+\", \"<n>\", remaining_text)"
   ]
  },
  {
   "cell_type": "code",
   "execution_count": 8,
   "metadata": {},
   "outputs": [
    {
     "data": {
      "text/plain": [
       "'这是测试文本的这是测试文本的外部this is not'"
      ]
     },
     "execution_count": 8,
     "metadata": {},
     "output_type": "execute_result"
    }
   ],
   "source": [
    "remaining_text"
   ]
  },
  {
   "cell_type": "code",
   "execution_count": 17,
   "metadata": {},
   "outputs": [
    {
     "name": "stdout",
     "output_type": "stream",
     "text": [
      "True\n"
     ]
    }
   ],
   "source": [
    "line = 'faegeehhrifwe000121313|'\n",
    "if len(re.findall(r'[a-zA-Z0-9]{20,}', line))>0:\n",
    "    print('True')"
   ]
  },
  {
   "cell_type": "code",
   "execution_count": null,
   "metadata": {},
   "outputs": [],
   "source": []
  }
 ],
 "metadata": {
  "kernelspec": {
   "display_name": "base",
   "language": "python",
   "name": "python3"
  },
  "language_info": {
   "codemirror_mode": {
    "name": "ipython",
    "version": 3
   },
   "file_extension": ".py",
   "mimetype": "text/x-python",
   "name": "python",
   "nbconvert_exporter": "python",
   "pygments_lexer": "ipython3",
   "version": "3.10.9"
  },
  "orig_nbformat": 4
 },
 "nbformat": 4,
 "nbformat_minor": 2
}
