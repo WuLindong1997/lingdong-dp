{
 "cells": [
  {
   "cell_type": "code",
   "execution_count": 1,
   "id": "2420c6f4",
   "metadata": {},
   "outputs": [],
   "source": [
    "text = \"func NewSTM(c *v3.Client, apply func(STM) error, so ...stmOption) (*v3.TxnResponse, error) {\\n\\topts := &stmOptions{ctx: c.Ctx()}\\n\\tfor _, f := range so {\\n\\t\\tf(opts)\\n\\t}\\n\\tif len(opts.prefetch) != 0 {\\n\\t\\tf := apply\\n\\t\\tapply = func(s STM) error {\\n\\t\\t\\ts.Get(opts.prefetch...)\\n\\t\\t\\treturn f(s)\\n\\t\\t}\\n\\t}\\n\\treturn runSTM(mkSTM(c, opts), apply)\\n}\""
   ]
  },
  {
   "cell_type": "code",
   "execution_count": 2,
   "id": "bff38b0c",
   "metadata": {},
   "outputs": [
    {
     "data": {
      "text/plain": [
       "'func NewSTM(c *v3.Client, apply func(STM) error, so ...stmOption) (*v3.TxnResponse, error) {\\n\\topts := &stmOptions{ctx: c.Ctx()}\\n\\tfor _, f := range so {\\n\\t\\tf(opts)\\n\\t}\\n\\tif len(opts.prefetch) != 0 {\\n\\t\\tf := apply\\n\\t\\tapply = func(s STM) error {\\n\\t\\t\\ts.Get(opts.prefetch...)\\n\\t\\t\\treturn f(s)\\n\\t\\t}\\n\\t}\\n\\treturn runSTM(mkSTM(c, opts), apply)\\n}'"
      ]
     },
     "execution_count": 2,
     "metadata": {},
     "output_type": "execute_result"
    }
   ],
   "source": [
    "text"
   ]
  },
  {
   "cell_type": "code",
   "execution_count": 3,
   "id": "7735d9cb",
   "metadata": {},
   "outputs": [
    {
     "name": "stdout",
     "output_type": "stream",
     "text": [
      "func NewSTM(c *v3.Client, apply func(STM) error, so ...stmOption) (*v3.TxnResponse, error) {\n",
      "\topts := &stmOptions{ctx: c.Ctx()}\n",
      "\tfor _, f := range so {\n",
      "\t\tf(opts)\n",
      "\t}\n",
      "\tif len(opts.prefetch) != 0 {\n",
      "\t\tf := apply\n",
      "\t\tapply = func(s STM) error {\n",
      "\t\t\ts.Get(opts.prefetch...)\n",
      "\t\t\treturn f(s)\n",
      "\t\t}\n",
      "\t}\n",
      "\treturn runSTM(mkSTM(c, opts), apply)\n",
      "}\n"
     ]
    }
   ],
   "source": [
    "print(text)"
   ]
  },
  {
   "cell_type": "code",
   "execution_count": null,
   "id": "dd223852",
   "metadata": {},
   "outputs": [],
   "source": []
  }
 ],
 "metadata": {
  "kernelspec": {
   "display_name": "Python 3 (ipykernel)",
   "language": "python",
   "name": "python3"
  },
  "language_info": {
   "codemirror_mode": {
    "name": "ipython",
    "version": 3
   },
   "file_extension": ".py",
   "mimetype": "text/x-python",
   "name": "python",
   "nbconvert_exporter": "python",
   "pygments_lexer": "ipython3",
   "version": "3.9.13"
  }
 },
 "nbformat": 4,
 "nbformat_minor": 5
}
